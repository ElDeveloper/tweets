{
 "metadata": {
  "name": ""
 },
 "nbformat": 3,
 "nbformat_minor": 0,
 "worksheets": [
  {
   "cells": [
    {
     "cell_type": "code",
     "collapsed": false,
     "input": [
      "from json import loads as j_loads, load as j_load\n",
      "from re import findall\n",
      "from IPython.display import Image"
     ],
     "language": "python",
     "metadata": {},
     "outputs": []
    },
    {
     "cell_type": "code",
     "collapsed": false,
     "input": [
      "fd = open('yoshiki_twitt_collection.txt', 'U')\n",
      "lines = fd.readlines()\n",
      "fd.close()"
     ],
     "language": "python",
     "metadata": {},
     "outputs": []
    },
    {
     "cell_type": "code",
     "collapsed": false,
     "input": [
      "# fix some of the main issues that we've encountered so far\n",
      "cleaned_up_lines = []\n",
      "for line in lines:\n",
      "    buffer_line = line.replace(' u\\'', ' \\'').replace('{u\\'', '{\\'')\n",
      "    buffer_line = buffer_line.replace(', \\'', ', \"').replace('{\\'', '{\"').replace('\\'}', '\"}').replace(': \\'', ': \"').replace('\\': ', '\": ').replace('\\', ', '\", ')\n",
      "    buffer_line = buffer_line.replace('False', '\"False\"').replace('True', '\"True\"').replace('None', '\"None\"')\n",
      "    cleaned_up_lines.append(buffer_line)"
     ],
     "language": "python",
     "metadata": {},
     "outputs": []
    },
    {
     "cell_type": "code",
     "collapsed": true,
     "input": [
      "# code modified from http://stackoverflow.com/questions/18514910/how-do-i-automatically-fix-an-invalid-json-string\n",
      "list_of_dicts = []\n",
      "total = 0\n",
      "something = 0\n",
      "timeout = 0\n",
      "\n",
      "for line in cleaned_up_lines:\n",
      "    #print total, something\n",
      "    something += 1\n",
      "    while True:\n",
      "        if timeout >= 30:\n",
      "            #print 'timingout'\n",
      "            timeout = 0\n",
      "            break\n",
      "        \n",
      "        #print 'running in while'\n",
      "        try:\n",
      "            result = j_loads(line)   # try to parse...\n",
      "            list_of_dicts.append(result)\n",
      "            total += 1\n",
      "            timeout = 0\n",
      "            #print 'parsing worked ...'\n",
      "            break                    # parsing worked -> exit loop\n",
      "        except Exception as e:\n",
      "            timeout += 1\n",
      "            #print e.message\n",
      "            # \"Expecting , delimiter: line 34 column 54 (char 1158)\"\n",
      "            # position of unexpected character after '\"'\n",
      "            \n",
      "            if e.message == 'No JSON object could be decoded':\n",
      "                timeout = 0\n",
      "                #print \"no json\"\n",
      "                break\n",
      "            \n",
      "            unexp = int(findall(r'\\(char (\\d+)\\)', str(e))[0])\n",
      "            # position of unescaped '\"' before that\n",
      "            unesc = line.rfind(r'\"', 0, unexp)\n",
      "            line = line[:unesc] + r'\\\"' + line[unesc+1:]\n",
      "            # position of correspondig closing '\"' (+2 for inserted '\\')\n",
      "            closg = line.find(r'\"', unesc + 2)\n",
      "            line = line[:closg] + r'\\\"' + line[closg+1:]\n",
      "print 'Total objects decoded %d out of %d' % (total, len(cleaned_up_lines))"
     ],
     "language": "python",
     "metadata": {},
     "outputs": []
    },
    {
     "cell_type": "code",
     "collapsed": false,
     "input": [
      "written_lines = 0\n",
      "\n",
      "fd = open('tweets_text.txt', 'w')\n",
      "for element in list_of_dicts:\n",
      "    try:\n",
      "        fd.write(element['text'].lower()+'\\n')\n",
      "        written_lines += 1\n",
      "    # a lot of tweets come with really weird non-ASCII characters\n",
      "    except UnicodeEncodeError:\n",
      "        continue\n",
      "fd.close()\n",
      "\n",
      "print 'A total of %d lines were written, out of %d' % (written_lines, len(list_of_dicts))"
     ],
     "language": "python",
     "metadata": {},
     "outputs": []
    },
    {
     "cell_type": "code",
     "collapsed": false,
     "input": [
      "# Once you get the previous file just run\n",
      "# cat tweets_text.txt | pbcopy and go to\n",
      "# http://www.wordle.net/create to create a text cloud\n",
      "Image('word_cloud.png')"
     ],
     "language": "python",
     "metadata": {},
     "outputs": []
    }
   ],
   "metadata": {}
  }
 ]
}